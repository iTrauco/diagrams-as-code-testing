{
 "cells": [
  {
   "cell_type": "code",
   "execution_count": 9,
   "id": "4b0057d4-7466-4df2-afa1-6b13674b5d2e",
   "metadata": {},
   "outputs": [],
   "source": [
    "%%capture\n",
    "!pip3 install diagrams-as-code \n",
    "\n"
   ]
  },
  {
   "cell_type": "code",
   "execution_count": 10,
   "id": "b969045a-0122-45fb-8d55-7b1b628a010a",
   "metadata": {},
   "outputs": [
    {
     "name": "stdout",
     "output_type": "stream",
     "text": [
      "Traceback (most recent call last):\n",
      "  File \"/home/trauco/miniconda3/bin/diagrams-as-code\", line 8, in <module>\n",
      "    sys.exit(entrypoint())\n",
      "             ^^^^^^^^^^^^\n",
      "  File \"/home/trauco/miniconda3/lib/python3.12/site-packages/diagrams_as_code/entrypoint.py\", line 140, in entrypoint\n",
      "    with open(yaml_file_path) as yaml_file:\n",
      "         ^^^^^^^^^^^^^^^^^^^^\n",
      "FileNotFoundError: [Errno 2] No such file or directory: '/home/trauco/gcp-test/notebooks/examples/web-services-aws.yaml'\n"
     ]
    }
   ],
   "source": [
    "! diagrams-as-code examples/web-services-aws.yaml"
   ]
  },
  {
   "cell_type": "code",
   "execution_count": null,
   "id": "cc17427c-fc13-4959-9df4-9bfa41954a30",
   "metadata": {},
   "outputs": [],
   "source": []
  }
 ],
 "metadata": {
  "kernelspec": {
   "display_name": "Python 3 (ipykernel)",
   "language": "python",
   "name": "python3"
  },
  "language_info": {
   "codemirror_mode": {
    "name": "ipython",
    "version": 3
   },
   "file_extension": ".py",
   "mimetype": "text/x-python",
   "name": "python",
   "nbconvert_exporter": "python",
   "pygments_lexer": "ipython3",
   "version": "3.10.12"
  }
 },
 "nbformat": 4,
 "nbformat_minor": 5
}
